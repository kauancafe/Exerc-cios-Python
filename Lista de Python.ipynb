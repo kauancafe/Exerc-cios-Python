{
 "cells": [
  {
   "cell_type": "markdown",
   "metadata": {},
   "source": [
    "1. Faça um programa que leia um número inteiro e o imprima."
   ]
  },
  {
   "cell_type": "code",
   "execution_count": null,
   "metadata": {},
   "outputs": [],
   "source": [
    "Numero = int(input('Digite um Número:'))\n",
    "print('O Número digitado foi:',Numero)"
   ]
  },
  {
   "cell_type": "markdown",
   "metadata": {},
   "source": [
    "2. Peça ao usuário para digitar três valores inteiros e imprima a soma deles."
   ]
  },
  {
   "cell_type": "code",
   "execution_count": null,
   "metadata": {},
   "outputs": [],
   "source": [
    "Numero1 = int(input('Digite um Número:'))\n",
    "Numero2 = int(input('Digite outro Número:'))\n",
    "Numero3 = int(input('Digite mais um Número:'))\n",
    "print('A soma dos números é:',(Numero1+Numero2+Numero3))"
   ]
  },
  {
   "cell_type": "markdown",
   "metadata": {},
   "source": [
    "3. Desenvolva um algoritmo em python que leia um número inteiro e imprima o seu antecessor e seu sucessor."
   ]
  },
  {
   "cell_type": "code",
   "execution_count": null,
   "metadata": {},
   "outputs": [],
   "source": [
    "Numero = int(input('Digite um número:'))\n",
    "print('O antecessor do número é',(Numero-1),'e o sucessor é',(Numero+1))"
   ]
  },
  {
   "cell_type": "markdown",
   "metadata": {},
   "source": [
    "4. Leia uma temperatura em graus Celsius e apresente-a convertida em graus Fahrenheit. \n",
    "A fórmula de conversão é: F = C*(9.0/5.0)+32.0, sendo F a temperatura em Fahrenheit e C a temperatura em Celsius."
   ]
  },
  {
   "cell_type": "code",
   "execution_count": null,
   "metadata": {},
   "outputs": [],
   "source": [
    "Celsius = float(input('Digite a temperatura em graus Celsius:'))\n",
    "Fahrenheit = Celsius*(9/5)+32\n",
    "print('A temperatura é de {:.1f} Fahrenheit.'.format(Fahrenheit))"
   ]
  },
  {
   "cell_type": "markdown",
   "metadata": {},
   "source": [
    "5. Leia uma velocidade em km/h (quilômetros por hora) e apresente-a convertida em m/s (metros por segundo). \n",
    "A fórmula de conversão é: M = K/3.6, sendo K a velocidade em km/h e M em m/s."
   ]
  },
  {
   "cell_type": "code",
   "execution_count": null,
   "metadata": {},
   "outputs": [],
   "source": [
    "Quilometros_Hora = float(input('Digite a Velocidade em km/h:'))\n",
    "Metros_Segundo = Quilometros_Hora/3.6\n",
    "print('{} km/h é aproximadamente {:.2f} metros por segundo'.format(Quilometros_Hora,Metros_Segundo))"
   ]
  },
  {
   "cell_type": "markdown",
   "metadata": {},
   "source": [
    "6. Leia quatro notas, calcule a média aritmética e imprima o resultado."
   ]
  },
  {
   "cell_type": "code",
   "execution_count": null,
   "metadata": {},
   "outputs": [],
   "source": [
    "Nota1 = float(input('Digite a 1ª Nota: '))\n",
    "Nota2 = float(input('Digite a 2ª Nota: '))\n",
    "Nota3 = float(input('Digite a 3ª Nota: '))\n",
    "Nota4 = float(input('Digite a 4ª Nota: '))\n",
    "\n",
    "print('A Média Aritmética é: {:.2f}'.format((Nota1+Nota2+Nota3+Nota4)/4))"
   ]
  },
  {
   "cell_type": "markdown",
   "metadata": {},
   "source": [
    "7. Leia um valor em real e a cotação do dólar. Em seguida, imprima o valor correspondente em dólares."
   ]
  },
  {
   "cell_type": "code",
   "execution_count": null,
   "metadata": {},
   "outputs": [],
   "source": [
    "Real = float(input('Digite quantos reais deseja converter: '))\n",
    "Dolar = float(input('Digite a cotação do dólar hoje: '))\n",
    "print('Conversão para Dólar: ${:.2f} '.format(Real/Dolar))"
   ]
  },
  {
   "cell_type": "markdown",
   "metadata": {},
   "source": [
    "8. Leia o valor do raio de um círculo e calcule e imprima a área do círculo correspondente. A área do círculo é π*r² , considere π = 3.141592."
   ]
  },
  {
   "cell_type": "code",
   "execution_count": null,
   "metadata": {},
   "outputs": [],
   "source": [
    "Raio = float(input('Digite o raio do círculo: '))\n",
    "Pi = 3.141592\n",
    "print('A área do círculo é: {}'.format(Pi*(Raio**2)))"
   ]
  },
  {
   "cell_type": "markdown",
   "metadata": {},
   "source": [
    "9. A importância de R$ 780.000,00 será dividida entre três ganhadores de\n",
    "um concurso. Sendo que da quantia total:\n",
    "- O primeiro ganhador receberá 46%;\n",
    "- O segundo receberá 32%;\n",
    "- O terceiro receberá o restante;\n",
    "Calcule e imprima a quantia ganha por cada um dos ganhadores."
   ]
  },
  {
   "cell_type": "code",
   "execution_count": null,
   "metadata": {},
   "outputs": [],
   "source": [
    "Premio = 780000\n",
    "Ganhador1 = 780000 * 0.46\n",
    "Ganhador2 = 780000 * 0.32\n",
    "Ganhador3 = 780000 - (Ganhador1 + Ganhador2)\n",
    "print('1º Ganhador: R$ {:.2f}\\n2º Ganhador: R$ {:.2f}\\n3º Ganhador: R$ {:.2f}'.format(Ganhador1,Ganhador2,Ganhador3))"
   ]
  },
  {
   "cell_type": "markdown",
   "metadata": {},
   "source": [
    "10. Faça um programa que leia um número e, caso ele seja positivo, calcule e mostre:\n",
    "- O número digitado ao quadrado\n",
    "- A raiz quadrada do número digitado"
   ]
  },
  {
   "cell_type": "code",
   "execution_count": null,
   "metadata": {},
   "outputs": [],
   "source": [
    "Numero = float(input('Digite um número: '))\n",
    "if(Numero>0):\n",
    "    print('- {} ao quadrado é: {}\\n- A raiz quadrada de {} é: {}'.format(Numero,(Numero**2),Numero,(Numero**0.5)))\n",
    "elif(Numero == 0):\n",
    "    print('0 é um número neutro, logo seu quadrado e sua raiz são 0')\n",
    "else:\n",
    "    print('Digite um número positivo')"
   ]
  },
  {
   "cell_type": "markdown",
   "metadata": {},
   "source": [
    "11. Faça um programa que receba um número inteiro e verifique se este número é par ou ímpar, positivo ou negativo."
   ]
  },
  {
   "cell_type": "code",
   "execution_count": null,
   "metadata": {},
   "outputs": [],
   "source": [
    "Numero = int(input('Digite um número: '))\n",
    "if(Numero == 0):\n",
    "    print('0 é um número neutro')\n",
    "else:\n",
    "    if((Numero % 2) == 0):\n",
    "        print('O número é par e',end=' ')\n",
    "    else:\n",
    "        print('O número é impar e',end=' ')\n",
    "    if(Numero>0):\n",
    "        print('positivo')\n",
    "    else:\n",
    "        print('negativo')"
   ]
  },
  {
   "cell_type": "markdown",
   "metadata": {},
   "source": [
    "12. Faça um programa que leia 2 notas de um aluno, verifique se as notas são válidas e exiba na tela a média destas notas. Uma nota válida deve ser, obrigatoriamente, um valor entre 0.0 e 10.0, onde caso a nota não possua um valor válido, este fato deve ser informado ao usuário e o programa termina."
   ]
  },
  {
   "cell_type": "code",
   "execution_count": null,
   "metadata": {},
   "outputs": [],
   "source": [
    "Nota1 = float(input('Digite a 1ª Nota: '))\n",
    "if(Nota1>10) or (Nota1<0):\n",
    "    print('Nota inválida, tente novamente.')\n",
    "else: \n",
    "    Nota2 = float(input('Digite a 2ª Nota: '))\n",
    "    if(Nota2<0 or Nota2>10):\n",
    "        print('Nota inválida, tente novamente.')\n",
    "    else:\n",
    "        print('Média do aluno: {:.2f}'.format((Nota1 + Nota2) / 2))"
   ]
  },
  {
   "cell_type": "markdown",
   "metadata": {},
   "source": [
    "13. Faça um programa que receba a altura e o sexo de uma pessoa e calcule e mostre seu peso ideal, utilizando as seguintes fórmulas (onde h corresponde à altura):\n",
    "- Homens: (72.7 * h) − 58\n",
    "- Mulheres: (62, 1 * h) − 44, 7"
   ]
  },
  {
   "cell_type": "code",
   "execution_count": null,
   "metadata": {},
   "outputs": [],
   "source": [
    "Altura = float(input('Digite sua Altura:'))\n",
    "if(Altura<0):\n",
    "    print('Altura inválida, tente novamente.')\n",
    "else: \n",
    "    Sexo = int(input('Informe seu Sexo:\\n1 - Homem\\n2 - Mulher\\n'))\n",
    "    if(Sexo == 1):\n",
    "        print('Seu peso ideal é: {:.2f}'.format((72.7*Altura)-58))\n",
    "    elif(Sexo == 2):\n",
    "        print('Seu peso ideal é: {:.2f}'.format((62.1*Altura)-44.7))\n",
    "    else:\n",
    "        print('Opção de Sexo Inválida, tente novamente.')"
   ]
  },
  {
   "cell_type": "markdown",
   "metadata": {},
   "source": [
    "14. A nota final de um estudante é calculada a partir de três notas atribuídas entre o intervalo de 0 até 10, respectivamente, a um trabalho de laboratório, a uma avaliação semestral e a um exame final. A média das três notas mencionadas anteriormente obedece aos pesos: Trabalho de Laboratório: 2; Avaliação Semestral: 3; Exame Final: 5. De acordo com o resultado, mostre na tela se o aluno está reprovado (média entre 0 e 2,9), de recuperação (entre 3 e 4,9) ou se foi aprovado. Faça todas as\n",
    "verificações necessárias."
   ]
  },
  {
   "cell_type": "code",
   "execution_count": null,
   "metadata": {},
   "outputs": [],
   "source": [
    "Laboratorio = float(input('Digite a Nota do trabalho de laboratório: '))\n",
    "if(Laboratorio<0)or(Laboratorio>10):\n",
    "    print('Nota inválida, tente novamente.')\n",
    "else:\n",
    "    Avaliacao = float(input('Digite a Nota da Avaliação Semestral: '))\n",
    "    if(Avaliacao<0)or(Avaliacao>10):\n",
    "        print('Nota inválida, tente novamente.')\n",
    "    else:\n",
    "        Exame = float(input('Digite a Nota do Exame Final: '))\n",
    "        if(Exame<0)or(Exame>10):\n",
    "            print('Nota inválida, tente novamente.')\n",
    "        else:\n",
    "            Media = ((Laboratorio * 2) + (Avaliacao * 3) + (Exame * 5)) / 10\n",
    "            if(Media<3):\n",
    "                print('O aluno está reprovado.')\n",
    "            elif(Media<5):\n",
    "                print('O aluno está de recuperação.')\n",
    "            else:\n",
    "                print('O aluno está aprovado.')\n",
    "            print('Média do aluno: {:.1f}'.format(Media))"
   ]
  },
  {
   "cell_type": "markdown",
   "metadata": {},
   "source": [
    "15. Faça um programa que faça 5 perguntas para uma pessoa sobre um crime. As perguntas são:\n",
    "- \"Telefonou para a vítima?\"\n",
    "- \"Esteve no local do crime?\"\n",
    "- \"Mora perto da vítima?\"\n",
    "- \"Devia para a vítima?\"\n",
    "- \"Já trabalhou com a vítima?\"\n",
    "\n",
    "O programa deve no final emitir uma classificação sobre a participação da pessoa no crime. Se a pessoa responder positivamente a 2 questões ela deve ser classificada como \"Suspeita\", entre 3 e 4 como \"Cúmplice\" e 5 como \"Assassino\". Caso contrário, ele será classificado como \"Inocente\"."
   ]
  },
  {
   "cell_type": "code",
   "execution_count": null,
   "metadata": {},
   "outputs": [],
   "source": [
    "print('\\nResponda com \"1\" para Sim ou \"2\" para Não.')\n",
    "Pergunta1 = int(input('Telefonou para a vítima?\\n'))\n",
    "Contagem = 0\n",
    "\n",
    "if(Pergunta1 != 1) and (Pergunta1 != 2):\n",
    "    print('Alternativa inválida, tente novamente.') \n",
    "else:\n",
    "    if(Pergunta1 == 1): \n",
    "        Contagem += 1 \n",
    "\n",
    "    print('\\nResponda com \"1\" para Sim ou \"2\" para Não.')\n",
    "    Pergunta2 = int(input('Esteve no local do crime?\\n'))\n",
    "\n",
    "    if(Pergunta2 != 1) and (Pergunta2 != 2):\n",
    "        print('Alternativa inválida, tente novamente.') \n",
    "    else:\n",
    "        if(Pergunta2 == 1):    \n",
    "            Contagem += 1 \n",
    "\n",
    "        print('\\nResponda com \"1\" para Sim ou \"2\" para Não.')\n",
    "        Pergunta3 = int(input('Mora perto da vítima?\\n'))\n",
    "\n",
    "        if(Pergunta3 != 1) and (Pergunta3 != 2):\n",
    "            print('Alternativa inválida, tente novamente.') \n",
    "        else:\n",
    "            if(Pergunta3 == 1): \n",
    "                Contagem += 1 \n",
    "\n",
    "            print('\\nResponda com \"1\" para Sim ou \"2\" para Não.')\n",
    "            Pergunta4 = int(input('Devia para a vítima?\\n'))\n",
    "\n",
    "            if(Pergunta4 != 1) and (Pergunta4 != 2):\n",
    "                print('Alternativa inválida, tente novamente.') \n",
    "            else:\n",
    "                if(Pergunta4 == 1): \n",
    "                    Contagem += 1 \n",
    "                \n",
    "                print('\\nResponda com \"1\" para Sim ou \"2\" para Não.')\n",
    "                Pergunta5 = int(input('Esteve no local do crime?\\n'))\n",
    "\n",
    "                if(Pergunta5 != 1) and (Pergunta5 != 2):\n",
    "                    print('Alternativa inválida, tente novamente.') \n",
    "                else:\n",
    "                    if(Pergunta5 == 1): \n",
    "                        Contagem += 1 \n",
    "                    if(Contagem == 5):\n",
    "                        print('Assassino!')\n",
    "                    elif((Contagem<5) and (Contagem >=3)):\n",
    "                        print('Cúmplice!')\n",
    "                    elif((Contagem>=2) and (Contagem<3)):\n",
    "                        print('Suspeito!')\n",
    "                    else:\n",
    "                        print('Inocente!')"
   ]
  },
  {
   "cell_type": "markdown",
   "metadata": {},
   "source": [
    "16. Leia a idade e o tempo de serviço de um trabalhador e escreva se ele pode ou não se aposentar. As condições para aposentadoria são:\n",
    "- Ter pelo menos 65 anos,\n",
    "- Ou ter trabalhado pelo menos 30 anos,\n",
    "- Ou ter pelo menos 60 anos e trabalhado pelo menos 25 anos."
   ]
  },
  {
   "cell_type": "code",
   "execution_count": null,
   "metadata": {},
   "outputs": [],
   "source": [
    "idade = int(input('Digite sua idade: '))\n",
    "Anos_Trabalhados = int(input('Digite quantos anos você trabalhou: '))\n",
    "if(idade<0) or (Anos_Trabalhados<0):\n",
    "    print('\\nDigite valores positivos.')\n",
    "else:\n",
    "    if(idade<Anos_Trabalhados):\n",
    "        print('\\nRazão entre idade e anos trabalhados inválida, tente novamente.')\n",
    "    else:\n",
    "        if(idade>=65):\n",
    "            print('Você pode se aposentar!')\n",
    "        elif(Anos_Trabalhados>=30):\n",
    "            print('Você pode se aposentar!')\n",
    "        elif(idade>=60) and (Anos_Trabalhados>=25):\n",
    "            print('Você pode se aposentar!')\n",
    "        else:\n",
    "            print('Você ainda não pode se aposentar.')"
   ]
  },
  {
   "cell_type": "markdown",
   "metadata": {},
   "source": [
    "17. Leia a distância em Km e a quantidade de litros de gasolina consumidos por um carro em um percurso, calcule o consumo em Km/l e escreva uma mensagem de acordo com a tabela abaixo:"
   ]
  },
  {
   "cell_type": "code",
   "execution_count": null,
   "metadata": {},
   "outputs": [],
   "source": [
    "Quilometros = float(input('Digite a distância em quilômetros: '))\n",
    "if (Quilometros<=0):\n",
    "    print('Quantidade de Quilômetros inválida.')\n",
    "else:\n",
    "    Litros = float(input('Digite quantos Litros foram consumidos: '))\n",
    "    if(Litros<=0):\n",
    "        print('Quantidade de Litros inválida.')\n",
    "    else:\n",
    "        Consumo = Quilometros / Litros\n",
    "        if(Consumo<8):\n",
    "            print('Consumo: {:.2f}l\\nVenda o carro!'.format(Consumo))\n",
    "        elif(Consumo>=8 and Consumo<=12):\n",
    "            print('Consumo: {:.2f}\\nEconômico!'.format(Consumo))\n",
    "        else:\n",
    "            print('Consumo: {:.2f}\\nSuper econômico!'.format(Consumo))"
   ]
  },
  {
   "cell_type": "markdown",
   "metadata": {},
   "source": [
    "18. Escreva um programa que escreva na tela, de 1 até 100, de 1 em 1, 2 vezes. A primeira vez deve usar a estrutura de repetição “for”, a segunda vez a estrutura “while”."
   ]
  },
  {
   "cell_type": "code",
   "execution_count": null,
   "metadata": {},
   "outputs": [],
   "source": [
    "print('for:')\n",
    "for i in range(1,101,1):\n",
    "    print(i, end=' ')\n",
    "inicio = 0\n",
    "print('\\n\\nwhile:')\n",
    "while(inicio<100):\n",
    "    inicio +=1\n",
    "    print(inicio, end=' ')"
   ]
  },
  {
   "cell_type": "markdown",
   "metadata": {},
   "source": [
    "19. Faça um programa que peça ao usuário para digitar 10 valores e some-os e imprima o resultado."
   ]
  },
  {
   "cell_type": "code",
   "execution_count": null,
   "metadata": {},
   "outputs": [],
   "source": [
    "Soma = 0\n",
    "for i in range(10):\n",
    "    Valores = int(input('Digite um valor: '))\n",
    "    Soma += Valores\n",
    "print(f'Soma: {Soma}')"
   ]
  },
  {
   "cell_type": "markdown",
   "metadata": {},
   "source": [
    "20. Faça um programa que leia 10 inteiros e imprima sua media."
   ]
  },
  {
   "cell_type": "code",
   "execution_count": null,
   "metadata": {},
   "outputs": [],
   "source": [
    "Soma = 0\n",
    "for i in range(10):\n",
    "    Valores = int(input('Digite um valor: '))\n",
    "    Soma += Valores\n",
    "    \n",
    "print(f'Média: {Soma/10:.2f}')"
   ]
  },
  {
   "cell_type": "markdown",
   "metadata": {},
   "source": [
    "21. Faça um programa que leia 10 inteiros positivos, ignorando não positivos, e imprima sua média."
   ]
  },
  {
   "cell_type": "code",
   "execution_count": null,
   "metadata": {},
   "outputs": [],
   "source": [
    "Contador = 0\n",
    "Soma = 0\n",
    "while Contador < 10:\n",
    "    Numero = int(input('Digite um número: '))\n",
    "    if(Numero>=0):\n",
    "        Contador += 1\n",
    "        Soma += Numero\n",
    "print(f'Média: {Soma/10:.2f}')"
   ]
  },
  {
   "cell_type": "markdown",
   "metadata": {},
   "source": [
    "22. Faça um programa que leia um numero inteiro “N” e depois imprima os N primeiros números naturais ímpares."
   ]
  },
  {
   "cell_type": "code",
   "execution_count": null,
   "metadata": {},
   "outputs": [],
   "source": [
    "Numero = int(input('Digite um número: '))\n",
    "if(Numero<=0):\n",
    "    print('Digite um Número inteiro positivo.')\n",
    "elif(Numero == 1):\n",
    "    print('1')\n",
    "else:\n",
    "    Impares = 1\n",
    "    for i in range(Numero):\n",
    "        print(Impares, end=' ')\n",
    "        Impares += 2"
   ]
  },
  {
   "cell_type": "markdown",
   "metadata": {},
   "source": [
    "23. Faça um programa que leia um numero inteiro positivo “N” e imprima todos os números naturais de 0 até “N” em ordem crescente."
   ]
  },
  {
   "cell_type": "code",
   "execution_count": null,
   "metadata": {},
   "outputs": [],
   "source": [
    "Numero = int(input('Digite um Número: '))\n",
    "if(Numero<0):\n",
    "    print('Digite um Número inteiro positivo.')\n",
    "else:\n",
    "    for i in range(0,Numero+1,1):\n",
    "        print(i,end=' ')"
   ]
  },
  {
   "cell_type": "markdown",
   "metadata": {},
   "source": [
    "24. Faça um programa que leia um numero inteiro positivo “N” e imprima todos os números naturais de 0 até N em ordem decrescente."
   ]
  },
  {
   "cell_type": "code",
   "execution_count": null,
   "metadata": {},
   "outputs": [],
   "source": [
    "Numero = int(input('Digite um Número: '))\n",
    "if(Numero<0):\n",
    "    print('Digite um Número inteiro positivo.')\n",
    "else:\n",
    "    for i in range(Numero,-1,-1):\n",
    "        print(i,end=' ')"
   ]
  },
  {
   "cell_type": "markdown",
   "metadata": {},
   "source": [
    "25. Faça um programa que receba dois números. Calcule e mostre:\n",
    "- a soma dos números pares desse intervalo de números, incluindo os números digitados;\n",
    "- a multiplicação dos números ímpares desse intervalo, incluindo os digitados;"
   ]
  },
  {
   "cell_type": "code",
   "execution_count": null,
   "metadata": {},
   "outputs": [],
   "source": [
    "Numero_Um = int(input('Digite um Número: '))\n",
    "Numero_Dois = int(input('Digite outro Número: '))\n",
    "if(Numero_Um>=Numero_Dois):\n",
    "    Maior = Numero_Um\n",
    "    Menor = Numero_Dois\n",
    "else:\n",
    "    Maior = Numero_Dois\n",
    "    Menor = Numero_Um\n",
    "Soma = 0\n",
    "Mult = 0\n",
    "for i in range(Menor,Maior+1,1):\n",
    "    if(i%2==0):\n",
    "        Soma += i\n",
    "    else:\n",
    "        if(Mult==0):\n",
    "            Mult+=1\n",
    "        Mult *= i \n",
    "print(f'Soma dos Pares: {Soma}\\nMultiplicação dos Impares: {Mult}')"
   ]
  },
  {
   "cell_type": "markdown",
   "metadata": {},
   "source": [
    "26. Faça um programa que imprima a tabuada de multiplicação de 1 a 9;"
   ]
  },
  {
   "cell_type": "code",
   "execution_count": null,
   "metadata": {},
   "outputs": [],
   "source": [
    "for i in range(1,10):\n",
    "    print('============')\n",
    "    for j in range(1,11):\n",
    "        Mult = i * j\n",
    "        print(f'{j} x {i} = {Mult}')\n",
    "print('============')"
   ]
  },
  {
   "cell_type": "markdown",
   "metadata": {},
   "source": [
    "27. Escreva um programa que leia um numero inteiro positivo “N” e em seguida imprima “N” linhas do chamado Triângulo de Floyd. Para n = 6, temos:"
   ]
  },
  {
   "cell_type": "code",
   "execution_count": null,
   "metadata": {},
   "outputs": [],
   "source": [
    "Numero = int(input('Digite um Número: '))\n",
    "Fatores = 0\n",
    "if(Numero<=0):\n",
    "    print('Digite um Número inteiro positivo.')\n",
    "else:\n",
    "    for i in range(1,Numero+1,1):\n",
    "        for j in range(i):\n",
    "            Fatores += 1\n",
    "            print(Fatores,end=' ')\n",
    "        print('')"
   ]
  }
 ],
 "metadata": {
  "language_info": {
   "name": "python"
  }
 },
 "nbformat": 4,
 "nbformat_minor": 2
}
